{
 "cells": [
  {
   "cell_type": "markdown",
   "id": "6ccecfbb-ca1b-4972-b92a-cbb4dae88e33",
   "metadata": {},
   "source": [
    "# Named entity recognition (NER) model for the identification of mountain names inside the texts"
   ]
  },
  {
   "cell_type": "markdown",
   "id": "76635fc6-2c43-480c-96fb-40f8dfc26af0",
   "metadata": {},
   "source": [
    "This notebook demonstrates how to load a pre-trained Named Entity Recognition (NER) model and use it to identify mountain names in example sentences.\n",
    "The results will be displayed with highlighted mountain names."
   ]
  },
  {
   "cell_type": "code",
   "execution_count": 3,
   "id": "a99d6aa7-fbe5-4dc8-bde8-da991fd8ba66",
   "metadata": {},
   "outputs": [
    {
     "name": "stderr",
     "output_type": "stream",
     "text": [
      "C:\\Projects\\task_1_final_structure\\.venv\\Lib\\site-packages\\torchvision\\io\\image.py:13: UserWarning: Failed to load image Python extension: '[WinError 127] The specified procedure could not be found'If you don't plan on using image functionality from `torchvision.io`, you can ignore this warning. Otherwise, there might be something wrong with your environment. Did you have `libjpeg` or `libpng` installed before building `torchvision` from source?\n",
      "  warn(\n"
     ]
    }
   ],
   "source": [
    "# Step 1: Setup and Dependencies\n",
    "import re\n",
    "from simpletransformers.ner import NERModel"
   ]
  },
  {
   "cell_type": "code",
   "execution_count": 4,
   "id": "aa56cb07-d60a-4ea7-a330-1c3562e7cbbc",
   "metadata": {},
   "outputs": [],
   "source": [
    "# Step 2: Load the Pre-trained Model\n",
    "model_directory = \"trained_model\"  # Specify the path to your trained model\n",
    "model = NERModel(model_type='distilbert', model_name=model_directory, use_cuda=False)"
   ]
  },
  {
   "cell_type": "code",
   "execution_count": 5,
   "id": "ec152223-bdce-4e99-80d9-8ddc37e4eaa4",
   "metadata": {},
   "outputs": [],
   "source": [
    "# Step 3: Define Function to Highlight Mountains\n",
    "from model_inference import highlight_mountain_names"
   ]
  },
  {
   "cell_type": "code",
   "execution_count": 6,
   "id": "8dc2315d-3e16-4358-b828-7b0aacb89924",
   "metadata": {},
   "outputs": [],
   "source": [
    "# Step 4: Input Data\n",
    "input_sentences = [\n",
    "    \"Climbing Gasherbrum IV is a challenge even for experienced mountaineers.\",\n",
    "    \"Matterhorn and Mount Ararat offer breathtaking views from their peaks.\",\n",
    "    \"The base of Snowdon stretches across several regions.\",\n",
    "    \"The rugged terrain of Mount Sniezka makes it difficult to ascend.\",\n",
    "    \"Local legends surround the history of Mont Maudit.\"\n",
    "]"
   ]
  },
  {
   "cell_type": "code",
   "execution_count": 7,
   "id": "50aa2bc9-aa6d-4569-8541-d599cc5a2108",
   "metadata": {},
   "outputs": [
    {
     "data": {
      "application/vnd.jupyter.widget-view+json": {
       "model_id": "d0320c9ba6c44c0598928f27b76848f1",
       "version_major": 2,
       "version_minor": 0
      },
      "text/plain": [
       "  0%|          | 0/1 [00:00<?, ?it/s]"
      ]
     },
     "metadata": {},
     "output_type": "display_data"
    },
    {
     "data": {
      "application/vnd.jupyter.widget-view+json": {
       "model_id": "51e376f7aa784f8f99b4d721289f7a60",
       "version_major": 2,
       "version_minor": 0
      },
      "text/plain": [
       "Running Prediction:   0%|          | 0/1 [00:00<?, ?it/s]"
      ]
     },
     "metadata": {},
     "output_type": "display_data"
    },
    {
     "name": "stdout",
     "output_type": "stream",
     "text": [
      "Original Sentence:\n",
      "Climbing Gasherbrum IV is a challenge even for experienced mountaineers.\n",
      "Processed Sentence:\n",
      "Climbing \u001b[1mGasherbrum IV\u001b[0m(Mountain) is a challenge even for experienced mountaineers.\n",
      "\n",
      "--------------------------------------------------\n",
      "\n"
     ]
    },
    {
     "data": {
      "application/vnd.jupyter.widget-view+json": {
       "model_id": "66cb7606e2b0481e992282374e62c51d",
       "version_major": 2,
       "version_minor": 0
      },
      "text/plain": [
       "  0%|          | 0/1 [00:00<?, ?it/s]"
      ]
     },
     "metadata": {},
     "output_type": "display_data"
    },
    {
     "data": {
      "application/vnd.jupyter.widget-view+json": {
       "model_id": "ca60cd7333d74a3bbdef35b6684d29d7",
       "version_major": 2,
       "version_minor": 0
      },
      "text/plain": [
       "Running Prediction:   0%|          | 0/1 [00:00<?, ?it/s]"
      ]
     },
     "metadata": {},
     "output_type": "display_data"
    },
    {
     "name": "stdout",
     "output_type": "stream",
     "text": [
      "Original Sentence:\n",
      "Matterhorn and Mount Ararat offer breathtaking views from their peaks.\n",
      "Processed Sentence:\n",
      "\u001b[1mMatterhorn\u001b[0m(Mountain) and \u001b[1mMount Ararat\u001b[0m(Mountain) offer breathtaking views from their peaks.\n",
      "\n",
      "--------------------------------------------------\n",
      "\n"
     ]
    },
    {
     "data": {
      "application/vnd.jupyter.widget-view+json": {
       "model_id": "6d005c6a0d3343baa2e5ce31a5f1f298",
       "version_major": 2,
       "version_minor": 0
      },
      "text/plain": [
       "  0%|          | 0/1 [00:00<?, ?it/s]"
      ]
     },
     "metadata": {},
     "output_type": "display_data"
    },
    {
     "data": {
      "application/vnd.jupyter.widget-view+json": {
       "model_id": "2c971cbb1e5c42808ae79da7ff0422e1",
       "version_major": 2,
       "version_minor": 0
      },
      "text/plain": [
       "Running Prediction:   0%|          | 0/1 [00:00<?, ?it/s]"
      ]
     },
     "metadata": {},
     "output_type": "display_data"
    },
    {
     "name": "stdout",
     "output_type": "stream",
     "text": [
      "Original Sentence:\n",
      "The base of Snowdon stretches across several regions.\n",
      "Processed Sentence:\n",
      "The base of \u001b[1mSnowdon\u001b[0m(Mountain) stretches across several regions.\n",
      "\n",
      "--------------------------------------------------\n",
      "\n"
     ]
    },
    {
     "data": {
      "application/vnd.jupyter.widget-view+json": {
       "model_id": "76305d2b25e144abae8578cfd754d686",
       "version_major": 2,
       "version_minor": 0
      },
      "text/plain": [
       "  0%|          | 0/1 [00:00<?, ?it/s]"
      ]
     },
     "metadata": {},
     "output_type": "display_data"
    },
    {
     "data": {
      "application/vnd.jupyter.widget-view+json": {
       "model_id": "4fe9a05fe4394f58b94c5dc851457644",
       "version_major": 2,
       "version_minor": 0
      },
      "text/plain": [
       "Running Prediction:   0%|          | 0/1 [00:00<?, ?it/s]"
      ]
     },
     "metadata": {},
     "output_type": "display_data"
    },
    {
     "name": "stdout",
     "output_type": "stream",
     "text": [
      "Original Sentence:\n",
      "The rugged terrain of Mount Sniezka makes it difficult to ascend.\n",
      "Processed Sentence:\n",
      "The rugged terrain of \u001b[1mMount Sniezka\u001b[0m(Mountain) makes it difficult to ascend.\n",
      "\n",
      "--------------------------------------------------\n",
      "\n"
     ]
    },
    {
     "data": {
      "application/vnd.jupyter.widget-view+json": {
       "model_id": "6215db64d6054bdd80ca3274ac2b4408",
       "version_major": 2,
       "version_minor": 0
      },
      "text/plain": [
       "  0%|          | 0/1 [00:00<?, ?it/s]"
      ]
     },
     "metadata": {},
     "output_type": "display_data"
    },
    {
     "data": {
      "application/vnd.jupyter.widget-view+json": {
       "model_id": "eb3baa9a8fc04445beca1eb724c2fabe",
       "version_major": 2,
       "version_minor": 0
      },
      "text/plain": [
       "Running Prediction:   0%|          | 0/1 [00:00<?, ?it/s]"
      ]
     },
     "metadata": {},
     "output_type": "display_data"
    },
    {
     "name": "stdout",
     "output_type": "stream",
     "text": [
      "Original Sentence:\n",
      "Local legends surround the history of Mont Maudit.\n",
      "Processed Sentence:\n",
      "Local legends surround the history of \u001b[1mMont Maudit.\u001b[0m(Mountain)\n",
      "\n",
      "--------------------------------------------------\n",
      "\n"
     ]
    }
   ],
   "source": [
    "# Step 5: Make Predictions and Highlight Results\n",
    "for sentence in input_sentences:\n",
    "    prediction, _ = model.predict([sentence])\n",
    "    highlighted = highlight_mountain_names(sentence, prediction)\n",
    "    print(\"Original Sentence:\")\n",
    "    print(sentence)\n",
    "    print(\"Processed Sentence:\")\n",
    "    print(highlighted)\n",
    "    print(\"\\n\" + \"-\" * 50 + \"\\n\")"
   ]
  },
  {
   "cell_type": "markdown",
   "id": "9816cc6d-7940-489b-b61c-6abad09e4217",
   "metadata": {},
   "source": [
    "# Conclusion: \n",
    "\n",
    "The model based on the DistilBERT architecture successfully identifies mountain names in the text and correctly labels them by adding the \"(Mountain)\" tag next to the detected mountains. The examples of sentences with different mountain names demonstrated that the model reliably performs its task."
   ]
  }
 ],
 "metadata": {
  "kernelspec": {
   "display_name": "Python 3 (ipykernel)",
   "language": "python",
   "name": "python3"
  },
  "language_info": {
   "codemirror_mode": {
    "name": "ipython",
    "version": 3
   },
   "file_extension": ".py",
   "mimetype": "text/x-python",
   "name": "python",
   "nbconvert_exporter": "python",
   "pygments_lexer": "ipython3",
   "version": "3.11.7"
  }
 },
 "nbformat": 4,
 "nbformat_minor": 5
}
