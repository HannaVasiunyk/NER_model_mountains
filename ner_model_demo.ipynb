{
 "cells": [
  {
   "cell_type": "markdown",
   "id": "6ccecfbb-ca1b-4972-b92a-cbb4dae88e33",
   "metadata": {},
   "source": [
    "# This notebook demonstrates how to load a pre-trained Named Entity Recognition (NER) model and use it to identify mountain names in example sentences.\n",
    "# The results will be displayed with highlighted mountain names."
   ]
  },
  {
   "cell_type": "code",
   "execution_count": 1,
   "id": "a99d6aa7-fbe5-4dc8-bde8-da991fd8ba66",
   "metadata": {},
   "outputs": [
    {
     "name": "stderr",
     "output_type": "stream",
     "text": [
      "C:\\Projects\\task_1_final_structure\\.venv\\Lib\\site-packages\\torchvision\\io\\image.py:13: UserWarning: Failed to load image Python extension: '[WinError 127] The specified procedure could not be found'If you don't plan on using image functionality from `torchvision.io`, you can ignore this warning. Otherwise, there might be something wrong with your environment. Did you have `libjpeg` or `libpng` installed before building `torchvision` from source?\n",
      "  warn(\n"
     ]
    }
   ],
   "source": [
    "# Step 1: Setup and Dependencies\n",
    "import re\n",
    "from simpletransformers.ner import NERModel"
   ]
  },
  {
   "cell_type": "code",
   "execution_count": 2,
   "id": "aa56cb07-d60a-4ea7-a330-1c3562e7cbbc",
   "metadata": {},
   "outputs": [],
   "source": [
    "# Step 2: Load the Pre-trained Model\n",
    "model_directory = \"trained_model\"  # Specify the path to your trained model\n",
    "model = NERModel(model_type='distilbert', model_name=model_directory, use_cuda=False)"
   ]
  },
  {
   "cell_type": "code",
   "execution_count": 3,
   "id": "ec152223-bdce-4e99-80d9-8ddc37e4eaa4",
   "metadata": {},
   "outputs": [],
   "source": [
    "# Step 3: Define Function to Highlight Mountains\n",
    "from model_inference import highlight_mountain_names"
   ]
  },
  {
   "cell_type": "code",
   "execution_count": 4,
   "id": "8dc2315d-3e16-4358-b828-7b0aacb89924",
   "metadata": {},
   "outputs": [],
   "source": [
    "# Step 4: Input Data\n",
    "input_sentences = [\n",
    "    \"Climbing Gasherbrum IV is a challenge even for experienced mountaineers.\",\n",
    "    \"Matterhorn and Mount Ararat offer breathtaking views from their peaks.\",\n",
    "    \"The base of Snowdon stretches across several regions.\",\n",
    "    \"The rugged terrain of Mount Sniezka makes it difficult to ascend.\",\n",
    "    \"Local legends surround the history of Mont Maudit.\"\n",
    "]"
   ]
  },
  {
   "cell_type": "code",
   "execution_count": 5,
   "id": "50aa2bc9-aa6d-4569-8541-d599cc5a2108",
   "metadata": {},
   "outputs": [
    {
     "data": {
      "application/vnd.jupyter.widget-view+json": {
       "model_id": "8c6ac0f67b1f4aa0acb3442202c3f2b5",
       "version_major": 2,
       "version_minor": 0
      },
      "text/plain": [
       "  0%|          | 0/1 [00:00<?, ?it/s]"
      ]
     },
     "metadata": {},
     "output_type": "display_data"
    },
    {
     "data": {
      "application/vnd.jupyter.widget-view+json": {
       "model_id": "40587adbdd63484aaaa7a7661df3a8dd",
       "version_major": 2,
       "version_minor": 0
      },
      "text/plain": [
       "Running Prediction:   0%|          | 0/1 [00:00<?, ?it/s]"
      ]
     },
     "metadata": {},
     "output_type": "display_data"
    },
    {
     "name": "stdout",
     "output_type": "stream",
     "text": [
      "Original Sentence:\n",
      "Climbing Gasherbrum IV is a challenge even for experienced mountaineers.\n",
      "Processed Sentence:\n",
      "Climbing \u001b[1mGasherbrum IV\u001b[0m(Mountain) is a challenge even for experienced mountaineers.\n",
      "\n",
      "--------------------------------------------------\n",
      "\n"
     ]
    },
    {
     "data": {
      "application/vnd.jupyter.widget-view+json": {
       "model_id": "3a806b50305349588dbd9ff93166bfd5",
       "version_major": 2,
       "version_minor": 0
      },
      "text/plain": [
       "  0%|          | 0/1 [00:00<?, ?it/s]"
      ]
     },
     "metadata": {},
     "output_type": "display_data"
    },
    {
     "data": {
      "application/vnd.jupyter.widget-view+json": {
       "model_id": "db45da12152d44bb884d8d0e49ff236a",
       "version_major": 2,
       "version_minor": 0
      },
      "text/plain": [
       "Running Prediction:   0%|          | 0/1 [00:00<?, ?it/s]"
      ]
     },
     "metadata": {},
     "output_type": "display_data"
    },
    {
     "name": "stdout",
     "output_type": "stream",
     "text": [
      "Original Sentence:\n",
      "Matterhorn and Mount Ararat offer breathtaking views from their peaks.\n",
      "Processed Sentence:\n",
      "\u001b[1mMatterhorn\u001b[0m(Mountain) and \u001b[1mMount Ararat\u001b[0m(Mountain) offer breathtaking views from their peaks.\n",
      "\n",
      "--------------------------------------------------\n",
      "\n"
     ]
    },
    {
     "data": {
      "application/vnd.jupyter.widget-view+json": {
       "model_id": "0f45e37aec534a6897c07793b3ede0f2",
       "version_major": 2,
       "version_minor": 0
      },
      "text/plain": [
       "  0%|          | 0/1 [00:00<?, ?it/s]"
      ]
     },
     "metadata": {},
     "output_type": "display_data"
    },
    {
     "data": {
      "application/vnd.jupyter.widget-view+json": {
       "model_id": "ea8d508e719b4871ab2a32a554d0f951",
       "version_major": 2,
       "version_minor": 0
      },
      "text/plain": [
       "Running Prediction:   0%|          | 0/1 [00:00<?, ?it/s]"
      ]
     },
     "metadata": {},
     "output_type": "display_data"
    },
    {
     "name": "stdout",
     "output_type": "stream",
     "text": [
      "Original Sentence:\n",
      "The base of Snowdon stretches across several regions.\n",
      "Processed Sentence:\n",
      "The base of \u001b[1mSnowdon\u001b[0m(Mountain) stretches across several regions.\n",
      "\n",
      "--------------------------------------------------\n",
      "\n"
     ]
    },
    {
     "data": {
      "application/vnd.jupyter.widget-view+json": {
       "model_id": "846d09126d4a452f848621da715f788e",
       "version_major": 2,
       "version_minor": 0
      },
      "text/plain": [
       "  0%|          | 0/1 [00:00<?, ?it/s]"
      ]
     },
     "metadata": {},
     "output_type": "display_data"
    },
    {
     "data": {
      "application/vnd.jupyter.widget-view+json": {
       "model_id": "a74fcab20a0547dfa3702278c5bf1fec",
       "version_major": 2,
       "version_minor": 0
      },
      "text/plain": [
       "Running Prediction:   0%|          | 0/1 [00:00<?, ?it/s]"
      ]
     },
     "metadata": {},
     "output_type": "display_data"
    },
    {
     "name": "stdout",
     "output_type": "stream",
     "text": [
      "Original Sentence:\n",
      "The rugged terrain of Mount Sniezka makes it difficult to ascend.\n",
      "Processed Sentence:\n",
      "The rugged terrain of \u001b[1mMount Sniezka\u001b[0m(Mountain) makes it difficult to ascend.\n",
      "\n",
      "--------------------------------------------------\n",
      "\n"
     ]
    },
    {
     "data": {
      "application/vnd.jupyter.widget-view+json": {
       "model_id": "23757fc428464b6094b6c74adf51a48c",
       "version_major": 2,
       "version_minor": 0
      },
      "text/plain": [
       "  0%|          | 0/1 [00:00<?, ?it/s]"
      ]
     },
     "metadata": {},
     "output_type": "display_data"
    },
    {
     "data": {
      "application/vnd.jupyter.widget-view+json": {
       "model_id": "0498ecbdadd447269960e61f922df6d8",
       "version_major": 2,
       "version_minor": 0
      },
      "text/plain": [
       "Running Prediction:   0%|          | 0/1 [00:00<?, ?it/s]"
      ]
     },
     "metadata": {},
     "output_type": "display_data"
    },
    {
     "name": "stdout",
     "output_type": "stream",
     "text": [
      "Original Sentence:\n",
      "Local legends surround the history of Mont Maudit.\n",
      "Processed Sentence:\n",
      "Local legends surround the history of \u001b[1mMont Maudit.\u001b[0m(Mountain)\n",
      "\n",
      "--------------------------------------------------\n",
      "\n"
     ]
    }
   ],
   "source": [
    "# Step 5: Make Predictions and Highlight Results\n",
    "for sentence in input_sentences:\n",
    "    prediction, _ = model.predict([sentence])\n",
    "    highlighted = highlight_mountain_names(sentence, prediction)\n",
    "    print(\"Original Sentence:\")\n",
    "    print(sentence)\n",
    "    print(\"Processed Sentence:\")\n",
    "    print(highlighted)\n",
    "    print(\"\\n\" + \"-\" * 50 + \"\\n\")"
   ]
  },
  {
   "cell_type": "code",
   "execution_count": null,
   "id": "958c93fb-00fc-41ca-b181-c0783bcf57bd",
   "metadata": {},
   "outputs": [],
   "source": []
  }
 ],
 "metadata": {
  "kernelspec": {
   "display_name": "Python 3 (ipykernel)",
   "language": "python",
   "name": "python3"
  },
  "language_info": {
   "codemirror_mode": {
    "name": "ipython",
    "version": 3
   },
   "file_extension": ".py",
   "mimetype": "text/x-python",
   "name": "python",
   "nbconvert_exporter": "python",
   "pygments_lexer": "ipython3",
   "version": "3.11.7"
  }
 },
 "nbformat": 4,
 "nbformat_minor": 5
}
